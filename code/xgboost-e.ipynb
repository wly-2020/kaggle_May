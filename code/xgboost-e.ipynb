{
 "metadata": {
  "kernelspec": {
   "language": "python",
   "display_name": "Python 3",
   "name": "python3"
  },
  "language_info": {
   "pygments_lexer": "ipython3",
   "nbconvert_exporter": "python",
   "version": "3.6.4",
   "file_extension": ".py",
   "codemirror_mode": {
    "name": "ipython",
    "version": 3
   },
   "name": "python",
   "mimetype": "text/x-python"
  }
 },
 "nbformat_minor": 4,
 "nbformat": 4,
 "cells": [
  {
   "cell_type": "code",
   "source": [
    "import scipy.sparse\n",
    "import sklearn\n",
    "from sklearn import preprocessing\n",
    "from sklearn.model_selection import train_test_split,cross_val_score\n",
    "from sklearn.preprocessing import StandardScaler, LabelEncoder\n",
    "from sklearn.model_selection import KFold, StratifiedKFold\n",
    "from sklearn.model_selection import GridSearchCV\n",
    "from sklearn.metrics import mean_squared_error, accuracy_score\n",
    "#from sklearn.metrics import confusion_matrix, plot_confusion_matrix\n",
    "from sklearn.metrics import classification_report\n",
    "import pandas as pd\n",
    "import optuna\n",
    "import xgboost as xgb"
   ],
   "metadata": {
    "_uuid": "8f2839f25d086af736a60e9eeb907d3b93b6e0e5",
    "_cell_guid": "b1076dfc-b9ad-4769-8c92-a6c4dae69d19",
    "execution": {
     "iopub.status.busy": "2021-05-27T16:23:33.021431Z",
     "iopub.execute_input": "2021-05-27T16:23:33.021746Z",
     "iopub.status.idle": "2021-05-27T16:23:33.02661Z",
     "shell.execute_reply.started": "2021-05-27T16:23:33.02172Z",
     "shell.execute_reply": "2021-05-27T16:23:33.025803Z"
    },
    "trusted": true
   },
   "execution_count": null,
   "outputs": []
  },
  {
   "cell_type": "code",
   "source": [
    "mytrain = pd.read_csv('../input/tabular-playground-series-may-2021/train.csv')\n",
    "mytest = pd.read_csv('../input/tabular-playground-series-may-2021/test.csv')"
   ],
   "metadata": {
    "execution": {
     "iopub.status.busy": "2021-05-27T16:23:33.027727Z",
     "iopub.execute_input": "2021-05-27T16:23:33.028134Z",
     "iopub.status.idle": "2021-05-27T16:23:33.403957Z",
     "shell.execute_reply.started": "2021-05-27T16:23:33.028106Z",
     "shell.execute_reply": "2021-05-27T16:23:33.402694Z"
    },
    "trusted": true
   },
   "execution_count": null,
   "outputs": []
  },
  {
   "cell_type": "code",
   "source": [
    "mytrain.head()"
   ],
   "metadata": {
    "execution": {
     "iopub.status.busy": "2021-05-27T16:23:33.405911Z",
     "iopub.execute_input": "2021-05-27T16:23:33.406204Z",
     "iopub.status.idle": "2021-05-27T16:23:33.425658Z",
     "shell.execute_reply.started": "2021-05-27T16:23:33.406176Z",
     "shell.execute_reply": "2021-05-27T16:23:33.424521Z"
    },
    "trusted": true
   },
   "execution_count": null,
   "outputs": []
  },
  {
   "cell_type": "code",
   "source": [
    "mytest.head()"
   ],
   "metadata": {
    "execution": {
     "iopub.status.busy": "2021-05-27T16:23:33.427096Z",
     "iopub.execute_input": "2021-05-27T16:23:33.427495Z",
     "iopub.status.idle": "2021-05-27T16:23:33.453633Z",
     "shell.execute_reply.started": "2021-05-27T16:23:33.427463Z",
     "shell.execute_reply": "2021-05-27T16:23:33.452687Z"
    },
    "trusted": true
   },
   "execution_count": null,
   "outputs": []
  },
  {
   "cell_type": "code",
   "source": [
    "big_X = mytrain.drop(['id', 'target'], axis=1)\n",
    "small_y = mytrain.target\n",
    "le = LabelEncoder() # practice, i could do it manually if i wanted... \n",
    "small_y = le.fit_transform(small_y)\n",
    "\n",
    "X_test = mytest.drop(['id'], axis=1) "
   ],
   "metadata": {
    "execution": {
     "iopub.status.busy": "2021-05-27T16:23:33.455208Z",
     "iopub.execute_input": "2021-05-27T16:23:33.456041Z",
     "iopub.status.idle": "2021-05-27T16:23:33.511591Z",
     "shell.execute_reply.started": "2021-05-27T16:23:33.455984Z",
     "shell.execute_reply": "2021-05-27T16:23:33.510732Z"
    },
    "trusted": true
   },
   "execution_count": null,
   "outputs": []
  },
  {
   "cell_type": "code",
   "source": [
    "def objective(trial):\n",
    "    \n",
    "    X_train, X_val, y_train, y_val = train_test_split(big_X, \n",
    "                    small_y, test_size=0.2,random_state=42)\n",
    "    \n",
    "    params = {\"verbosity\":0,\n",
    "              \n",
    "    #'tree_method':'gpu_hist', #not exact for now \n",
    "    \n",
    "    # i dont know if i need:\n",
    "    #'predictor':'gpu_predictor', \n",
    "              \n",
    "    \"objective\": \"multi:softprob\",  \n",
    "    # at one point i actually used softmax !  \n",
    "              \n",
    "    \"num_class\":4, \n",
    "\n",
    "    'eval_metric': 'mlogloss',\n",
    "    # keep ? 'metric': 'multi_logloss', \n",
    "                 \n",
    "    'booster' : 'gbtree',\n",
    "    # not this: \"boosting\": 'gbtree', \n",
    "    \n",
    "    'random_state':42, \n",
    "              \n",
    "    # \"lambda\": trial.suggest_float(\"lambda\", 1e-8, 1.0, log=True),\n",
    "    'reg_lambda' : trial.suggest_loguniform('reg_lambda' , 1e-8 , 30), \n",
    "    \"reg_alpha\": trial.suggest_float(\"reg_alpha\", 1e-8, 1.0, log=True),\n",
    "    # 'reg_alpha':trial.suggest_int('reg_alpha', 0, 5),\n",
    "    # 'reg_lambda':trial.suggest_int('reg_lambda', 0, 5),\n",
    "             \n",
    "    \"subsample\": trial.suggest_float(\"subsample\", 0.2, 1.0, step=.1),\n",
    "    # 'subsample' : 0.8,\n",
    "             \n",
    "    \"colsample_bytree\": trial.suggest_discrete_uniform(\"colsample_bytree\",0.5,1,0.1),\n",
    "    # no: 'colsample_bytree' : trial.suggest_uniform('colsample_bytree',0,1),\n",
    "             \n",
    "    \"max_depth\": trial.suggest_int(\"max_depth\", 3, 25, step=1),\n",
    "             \n",
    "    \"min_child_weight\": trial.suggest_int(\"min_child_weight\", 1, 100), \n",
    "              \n",
    "    # \"eta\":  trial.suggest_float(\"eta\", 1e-8, 1.0, log=True), \n",
    "    # 'learning_rate':trial.suggest_loguniform('learning_rate',0.005,0.5),\n",
    "    'learning_rate' : trial.suggest_uniform('learning_rate' , 0.005 , 0.3),\n",
    "    'gamma' : trial.suggest_loguniform('gamma' , 1e-8 , 1.0),           \n",
    "    \"grow_policy\": trial.suggest_categorical(\"grow_policy\", [\"depthwise\", \"lossguide\"]),\n",
    "    'n_estimators' : trial.suggest_int('n_estimators' , 100, 2500),\n",
    "    'max_leaves': trial.suggest_int('max_leaves', 2, 40)\n",
    "            } \n",
    "      \n",
    "    earlyStop=100\n",
    "    \n",
    "\n",
    "    bst = xgb.XGBClassifier(**params)\n",
    "    \n",
    "    bst.fit(X_train, y_train, eval_set = [(X_val,y_val)], \n",
    "            early_stopping_rounds = 100, verbose = False)\n",
    "    \n",
    "    y_pred = bst.predict_proba(X_val)\n",
    "        \n",
    "    return sklearn.metrics.log_loss(y_val, y_pred)"
   ],
   "metadata": {
    "execution": {
     "iopub.status.busy": "2021-05-27T16:23:33.512834Z",
     "iopub.execute_input": "2021-05-27T16:23:33.513431Z",
     "iopub.status.idle": "2021-05-27T16:23:33.524146Z",
     "shell.execute_reply.started": "2021-05-27T16:23:33.513385Z",
     "shell.execute_reply": "2021-05-27T16:23:33.523067Z"
    },
    "trusted": true
   },
   "execution_count": null,
   "outputs": []
  },
  {
   "cell_type": "code",
   "source": [
    "# study = optuna.create_study(direction=\"minimize\")\n",
    "# study.optimize(objective, n_trials=100) \n",
    "\n",
    "# print(\"Number of finished trials: \", len(study.trials))\n",
    "# print(\"Best trial:\")\n",
    "# trial = study.best_trial\n",
    "\n",
    "# print(\"  Value: {}\".format(trial.value))\n",
    "# print(\"  Params: \")\n",
    "# for key, value in trial.params.items():\n",
    "#     print(\"    {}: {}\".format(key, value))"
   ],
   "metadata": {
    "execution": {
     "iopub.status.busy": "2021-05-27T16:23:33.525555Z",
     "iopub.execute_input": "2021-05-27T16:23:33.52594Z",
     "iopub.status.idle": "2021-05-27T16:23:33.546154Z",
     "shell.execute_reply.started": "2021-05-27T16:23:33.5259Z",
     "shell.execute_reply": "2021-05-27T16:23:33.545309Z"
    },
    "trusted": true
   },
   "execution_count": null,
   "outputs": []
  },
  {
   "cell_type": "code",
   "source": [
    "train = pd.read_csv('../input/tabular-playground-series-may-2021/train.csv')\n",
    "test = pd.read_csv('../input/tabular-playground-series-may-2021/test.csv')\n",
    "sample_submission = pd.read_csv('../input/tabular-playground-series-may-2021/sample_submission.csv') \n",
    "le = LabelEncoder() # practice, i could do it manually if i wanted... \n",
    "train.target = le.fit_transform(train.target)\n",
    "features = train.columns[1:51] # only fifty \n",
    "X_train, X_val, y_train, y_val = train_test_split(train.drop(columns=[\"id\",\"target\"]), train.target, stratify=train.target)\n",
    "# y_train = y_train.map({'Class_1':0, \n",
    "#                        'Class_2':1, \n",
    "#                        'Class_3':2, \n",
    "#                        'Class_4':3})\n",
    "\n",
    "X_test = test.drop(['id'], axis=1) \n",
    "\n",
    "bst_2 = xgb.XGBClassifier(seed=42, \n",
    "base_score=0.5,\n",
    "booster='gbtree',\n",
    "#reg_lambda = 0.6838907631827036,  \n",
    "# , \n",
    "#reg_alpha =  0.004407099400692902,  \n",
    "# , \n",
    "colsample_bytree = 0.5, \n",
    "max_depth = 3, \n",
    "min_child_weight = 87, \n",
    "learning_rate = 0.038142105877918005, \n",
    "#scale_pos_weight=2,\n",
    "gamma =0.0021897234762554415, \n",
    "                          \n",
    "#grow_policy = \"lossguide\", \n",
    "n_estimators = 1409, \n",
    "num_class=4,                \n",
    "subsample=0.7,\n",
    "max_leaves=12, \n",
    "importance_type='gain', \n",
    "interaction_constraints='', \n",
    "monotone_constraints='()',\n",
    "#num_parallel_tree=1,\n",
    "verbosity=1, \n",
    "scale_pos_weight=0.5,\n",
    "#tree_method = 'gpu_hist',  \n",
    "objective = \"multi:softprob\")\n",
    "# eval_metric = 'mlogloss'\n",
    "# should be down below, not here\n",
    "                                           \n",
    "bst_2.fit(\n",
    "X_train, \n",
    "y_train,\n",
    "verbose=True,\n",
    "early_stopping_rounds=30,\n",
    "eval_metric=['mlogloss'],\n",
    "eval_set=[(X_train, y_train),(X_val, y_val)])"
   ],
   "metadata": {
    "execution": {
     "iopub.status.busy": "2021-05-27T16:23:33.547974Z",
     "iopub.execute_input": "2021-05-27T16:23:33.548527Z",
     "iopub.status.idle": "2021-05-27T16:25:16.421102Z",
     "shell.execute_reply.started": "2021-05-27T16:23:33.548477Z",
     "shell.execute_reply": "2021-05-27T16:25:16.420279Z"
    },
    "trusted": true
   },
   "execution_count": null,
   "outputs": []
  },
  {
   "cell_type": "code",
   "source": "preds_sub = bst_2.predict_proba(X_test)\nclasses = [\"Class_1\",\"Class_2\",\"Class_3\",\"Class_4\"]\nsample_submission = pd.read_csv('../input/tabular-playground-series-may-2021/sample_submission.csv') \nsample_submission.drop(columns=classes,inplace=True)\nsubmission = (sample_submission.join(pd.DataFrame(data=preds_sub, \n                                    columns=classes)))\nsubmission.to_csv(\"my_submission.csv\", index=False)",
   "metadata": {
    "execution": {
     "iopub.status.busy": "2021-05-27T16:25:16.42226Z",
     "iopub.execute_input": "2021-05-27T16:25:16.422509Z",
     "iopub.status.idle": "2021-05-27T16:25:17.439017Z",
     "shell.execute_reply.started": "2021-05-27T16:25:16.422484Z",
     "shell.execute_reply": "2021-05-27T16:25:17.438276Z"
    },
    "trusted": true
   },
   "execution_count": null,
   "outputs": []
  },
  {
   "cell_type": "code",
   "source": "",
   "metadata": {},
   "execution_count": null,
   "outputs": []
  }
 ]
}